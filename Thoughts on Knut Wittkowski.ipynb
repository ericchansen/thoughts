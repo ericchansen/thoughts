{
 "cells": [
  {
   "cell_type": "markdown",
   "metadata": {},
   "source": [
    "I've seen a lot of people talking about how SARS-CoV-2 would be exterminated if lockdowns were lifted. This seems to be based on an opinion by Knut Wittkowski, as can be seen here https://www.thecollegefix.com/epidemiologist-coronavirus-could-be-exterminated-if-lockdowns-were-lifted.\n",
    "\n",
    "So I did the math."
   ]
  },
  {
   "cell_type": "code",
   "execution_count": 1,
   "metadata": {},
   "outputs": [],
   "source": [
    "import pandas as pd\n",
    "pd.set_option('display.float_format', lambda x: \"%.2f\" % x)"
   ]
  },
  {
   "cell_type": "markdown",
   "metadata": {},
   "source": [
    "The best data I could find about death rates after Googling for a minute is this https://www.cdc.gov/mmwr/volumes/69/wr/mm6912e2.htm. It was sampled between February 12 - March 16, 2020. These numbers are optimistic for the scenario described by Knut Wittkowski (ex. no shutdowns/quarantine/shelter in place for those who are low risk), but it doesn't really matter. When you do the math, it still looks bad, even with these optimistic death rates."
   ]
  },
  {
   "cell_type": "code",
   "execution_count": 2,
   "metadata": {
    "scrolled": false
   },
   "outputs": [
    {
     "data": {
      "text/html": [
       "<div>\n",
       "<style scoped>\n",
       "    .dataframe tbody tr th:only-of-type {\n",
       "        vertical-align: middle;\n",
       "    }\n",
       "\n",
       "    .dataframe tbody tr th {\n",
       "        vertical-align: top;\n",
       "    }\n",
       "\n",
       "    .dataframe thead th {\n",
       "        text-align: right;\n",
       "    }\n",
       "</style>\n",
       "<table border=\"1\" class=\"dataframe\">\n",
       "  <thead>\n",
       "    <tr style=\"text-align: right;\">\n",
       "      <th></th>\n",
       "      <th>Death Rate</th>\n",
       "    </tr>\n",
       "  </thead>\n",
       "  <tbody>\n",
       "    <tr>\n",
       "      <th>0 - 19</th>\n",
       "      <td>0.00</td>\n",
       "    </tr>\n",
       "    <tr>\n",
       "      <th>20 - 44</th>\n",
       "      <td>0.00</td>\n",
       "    </tr>\n",
       "    <tr>\n",
       "      <th>45 - 54</th>\n",
       "      <td>0.01</td>\n",
       "    </tr>\n",
       "    <tr>\n",
       "      <th>55 - 64</th>\n",
       "      <td>0.02</td>\n",
       "    </tr>\n",
       "    <tr>\n",
       "      <th>65 - 74</th>\n",
       "      <td>0.04</td>\n",
       "    </tr>\n",
       "    <tr>\n",
       "      <th>75 - 84</th>\n",
       "      <td>0.07</td>\n",
       "    </tr>\n",
       "    <tr>\n",
       "      <th>85 +</th>\n",
       "      <td>0.19</td>\n",
       "    </tr>\n",
       "  </tbody>\n",
       "</table>\n",
       "</div>"
      ],
      "text/plain": [
       "         Death Rate\n",
       "0 - 19         0.00\n",
       "20 - 44        0.00\n",
       "45 - 54        0.01\n",
       "55 - 64        0.02\n",
       "65 - 74        0.04\n",
       "75 - 84        0.07\n",
       "85 +           0.19"
      ]
     },
     "execution_count": 2,
     "metadata": {},
     "output_type": "execute_result"
    }
   ],
   "source": [
    "death = {\n",
    "    \"Death Rate\": {         \n",
    "        \"0 - 19\": 0 / 100,\n",
    "        \"20 - 44\": (0.1 + 0.2) / 2 / 100,\n",
    "        \"45 - 54\": (0.5 + 0.8) / 2 / 100,\n",
    "        \"55 - 64\": (1.4 + 2.6) / 2 / 100,\n",
    "        \"65 - 74\": (2.7 + 4.9) / 2 / 100,\n",
    "        \"75 - 84\": (4.3 + 10.5) / 2 / 100,\n",
    "        \"85 +\": (10.4 + 27.3) / 2 / 100\n",
    "    }\n",
    "}\n",
    "death_df = pd.DataFrame(death)\n",
    "death_df"
   ]
  },
  {
   "cell_type": "markdown",
   "metadata": {},
   "source": [
    "The best data on population by age in the US that I could get after Googling for a minute is this https://data.census.gov/cedsci/table?q=us%20population%20by%20age."
   ]
  },
  {
   "cell_type": "code",
   "execution_count": 3,
   "metadata": {
    "scrolled": true
   },
   "outputs": [],
   "source": [
    "pop = {\n",
    "    \"US Population\": {        \n",
    "        \"0 - 4\": 19646315,\n",
    "        \"5 - 9\": 19805900,\n",
    "        \"10 - 14\": 21392922,\n",
    "        \"15 - 19\": 21445493,\n",
    "        \"20 - 24\": 21717962,\n",
    "        \"25 - 29\": 23320702,\n",
    "        \"30 - 34\": 22023972,\n",
    "        \"35 - 39\": 21571302,\n",
    "        \"40 - 44\": 19927151,\n",
    "        \"45 - 49\": 20733440,\n",
    "        \"50 - 54\": 20871804,\n",
    "        \"55 - 59\": 21624541,\n",
    "        \"60 - 64\": 20662821,\n",
    "        \"65 - 69\": 17107288,\n",
    "        \"70 - 74\": 13464025,\n",
    "        \"75 - 79\": 9378512,\n",
    "        \"80 - 84\": 6169441,\n",
    "        \"85 +\": 6303848\n",
    "    }\n",
    "}"
   ]
  },
  {
   "cell_type": "markdown",
   "metadata": {},
   "source": [
    "I'm going to take this data and match the bins that were used by the CDC for the death rates (shown near the top)."
   ]
  },
  {
   "cell_type": "code",
   "execution_count": 4,
   "metadata": {},
   "outputs": [],
   "source": [
    "pop = {\n",
    "    \"US Population\":\n",
    "    {\n",
    "        \"0 - 19\": pop[\"US Population\"][\"0 - 4\"] + pop[\"US Population\"][\"5 - 9\"] + pop[\"US Population\"][\"10 - 14\"] + pop[\"US Population\"][\"15 - 19\"],\n",
    "        \"20 - 44\": pop[\"US Population\"][\"20 - 24\"] + pop[\"US Population\"][\"25 - 29\"]+ pop[\"US Population\"][\"30 - 34\"] + pop[\"US Population\"][\"35 - 39\"] + pop[\"US Population\"][\"40 - 44\"],\n",
    "        \"45 - 54\": pop[\"US Population\"][\"45 - 49\"] + pop[\"US Population\"][\"50 - 54\"],\n",
    "        \"55 - 64\": pop[\"US Population\"][\"55 - 59\"] + pop[\"US Population\"][\"60 - 64\"],\n",
    "        \"65 - 74\": pop[\"US Population\"][\"65 - 69\"] + pop[\"US Population\"][\"70 - 74\"],\n",
    "        \"75 - 84\": pop[\"US Population\"][\"75 - 79\"] + pop[\"US Population\"][\"80 - 84\"],\n",
    "        \"85 +\": pop[\"US Population\"][\"85 +\"]\n",
    "    }\n",
    "}"
   ]
  },
  {
   "cell_type": "code",
   "execution_count": 5,
   "metadata": {
    "scrolled": false
   },
   "outputs": [
    {
     "data": {
      "text/html": [
       "<div>\n",
       "<style scoped>\n",
       "    .dataframe tbody tr th:only-of-type {\n",
       "        vertical-align: middle;\n",
       "    }\n",
       "\n",
       "    .dataframe tbody tr th {\n",
       "        vertical-align: top;\n",
       "    }\n",
       "\n",
       "    .dataframe thead th {\n",
       "        text-align: right;\n",
       "    }\n",
       "</style>\n",
       "<table border=\"1\" class=\"dataframe\">\n",
       "  <thead>\n",
       "    <tr style=\"text-align: right;\">\n",
       "      <th></th>\n",
       "      <th>US Population</th>\n",
       "    </tr>\n",
       "  </thead>\n",
       "  <tbody>\n",
       "    <tr>\n",
       "      <th>0 - 19</th>\n",
       "      <td>82290630</td>\n",
       "    </tr>\n",
       "    <tr>\n",
       "      <th>20 - 44</th>\n",
       "      <td>108561089</td>\n",
       "    </tr>\n",
       "    <tr>\n",
       "      <th>45 - 54</th>\n",
       "      <td>41605244</td>\n",
       "    </tr>\n",
       "    <tr>\n",
       "      <th>55 - 64</th>\n",
       "      <td>42287362</td>\n",
       "    </tr>\n",
       "    <tr>\n",
       "      <th>65 - 74</th>\n",
       "      <td>30571313</td>\n",
       "    </tr>\n",
       "    <tr>\n",
       "      <th>75 - 84</th>\n",
       "      <td>15547953</td>\n",
       "    </tr>\n",
       "    <tr>\n",
       "      <th>85 +</th>\n",
       "      <td>6303848</td>\n",
       "    </tr>\n",
       "  </tbody>\n",
       "</table>\n",
       "</div>"
      ],
      "text/plain": [
       "         US Population\n",
       "0 - 19        82290630\n",
       "20 - 44      108561089\n",
       "45 - 54       41605244\n",
       "55 - 64       42287362\n",
       "65 - 74       30571313\n",
       "75 - 84       15547953\n",
       "85 +           6303848"
      ]
     },
     "execution_count": 5,
     "metadata": {},
     "output_type": "execute_result"
    }
   ],
   "source": [
    "pop_df = pd.DataFrame(pop)\n",
    "pop_df"
   ]
  },
  {
   "cell_type": "code",
   "execution_count": 6,
   "metadata": {
    "scrolled": true
   },
   "outputs": [],
   "source": [
    "df = pd.concat([pop_df[\"US Population\"], death_df[\"Death Rate\"]], axis=1)"
   ]
  },
  {
   "cell_type": "markdown",
   "metadata": {},
   "source": [
    "Let's take a look at how many people would die if various percentages of the total US population was infected by SARS-CoV-2."
   ]
  },
  {
   "cell_type": "code",
   "execution_count": 7,
   "metadata": {},
   "outputs": [],
   "source": [
    "percent_of_population_infected = [0.1, 0.2, 0.3, 0.4, 0.5, 0.6, 0.7, 0.8, 0.9, 1.]"
   ]
  },
  {
   "cell_type": "code",
   "execution_count": 8,
   "metadata": {
    "scrolled": false
   },
   "outputs": [],
   "source": [
    "for x in percent_of_population_infected:\n",
    "    df[\"Percent Infected {}\".format(x)] = df[\"US Population\"] * df[\"Death Rate\"] * x\n",
    "summary_df = df.append(df.agg([\"sum\"]))"
   ]
  },
  {
   "cell_type": "code",
   "execution_count": 9,
   "metadata": {
    "scrolled": false
   },
   "outputs": [
    {
     "data": {
      "text/html": [
       "<div>\n",
       "<style scoped>\n",
       "    .dataframe tbody tr th:only-of-type {\n",
       "        vertical-align: middle;\n",
       "    }\n",
       "\n",
       "    .dataframe tbody tr th {\n",
       "        vertical-align: top;\n",
       "    }\n",
       "\n",
       "    .dataframe thead th {\n",
       "        text-align: right;\n",
       "    }\n",
       "</style>\n",
       "<table border=\"1\" class=\"dataframe\">\n",
       "  <thead>\n",
       "    <tr style=\"text-align: right;\">\n",
       "      <th></th>\n",
       "      <th>US Population</th>\n",
       "      <th>Death Rate</th>\n",
       "      <th>Percent Infected 0.1</th>\n",
       "      <th>Percent Infected 0.2</th>\n",
       "      <th>Percent Infected 0.3</th>\n",
       "      <th>Percent Infected 0.4</th>\n",
       "      <th>Percent Infected 0.5</th>\n",
       "      <th>Percent Infected 0.6</th>\n",
       "      <th>Percent Infected 0.7</th>\n",
       "      <th>Percent Infected 0.8</th>\n",
       "      <th>Percent Infected 0.9</th>\n",
       "      <th>Percent Infected 1.0</th>\n",
       "    </tr>\n",
       "  </thead>\n",
       "  <tbody>\n",
       "    <tr>\n",
       "      <th>0 - 19</th>\n",
       "      <td>82290630</td>\n",
       "      <td>0.00</td>\n",
       "      <td>0.00</td>\n",
       "      <td>0.00</td>\n",
       "      <td>0.00</td>\n",
       "      <td>0.00</td>\n",
       "      <td>0.00</td>\n",
       "      <td>0.00</td>\n",
       "      <td>0.00</td>\n",
       "      <td>0.00</td>\n",
       "      <td>0.00</td>\n",
       "      <td>0.00</td>\n",
       "    </tr>\n",
       "    <tr>\n",
       "      <th>20 - 44</th>\n",
       "      <td>108561089</td>\n",
       "      <td>0.00</td>\n",
       "      <td>16284.16</td>\n",
       "      <td>32568.33</td>\n",
       "      <td>48852.49</td>\n",
       "      <td>65136.65</td>\n",
       "      <td>81420.82</td>\n",
       "      <td>97704.98</td>\n",
       "      <td>113989.14</td>\n",
       "      <td>130273.31</td>\n",
       "      <td>146557.47</td>\n",
       "      <td>162841.63</td>\n",
       "    </tr>\n",
       "    <tr>\n",
       "      <th>45 - 54</th>\n",
       "      <td>41605244</td>\n",
       "      <td>0.01</td>\n",
       "      <td>27043.41</td>\n",
       "      <td>54086.82</td>\n",
       "      <td>81130.23</td>\n",
       "      <td>108173.63</td>\n",
       "      <td>135217.04</td>\n",
       "      <td>162260.45</td>\n",
       "      <td>189303.86</td>\n",
       "      <td>216347.27</td>\n",
       "      <td>243390.68</td>\n",
       "      <td>270434.09</td>\n",
       "    </tr>\n",
       "    <tr>\n",
       "      <th>55 - 64</th>\n",
       "      <td>42287362</td>\n",
       "      <td>0.02</td>\n",
       "      <td>84574.72</td>\n",
       "      <td>169149.45</td>\n",
       "      <td>253724.17</td>\n",
       "      <td>338298.90</td>\n",
       "      <td>422873.62</td>\n",
       "      <td>507448.34</td>\n",
       "      <td>592023.07</td>\n",
       "      <td>676597.79</td>\n",
       "      <td>761172.52</td>\n",
       "      <td>845747.24</td>\n",
       "    </tr>\n",
       "    <tr>\n",
       "      <th>65 - 74</th>\n",
       "      <td>30571313</td>\n",
       "      <td>0.04</td>\n",
       "      <td>116170.99</td>\n",
       "      <td>232341.98</td>\n",
       "      <td>348512.97</td>\n",
       "      <td>464683.96</td>\n",
       "      <td>580854.95</td>\n",
       "      <td>697025.94</td>\n",
       "      <td>813196.93</td>\n",
       "      <td>929367.92</td>\n",
       "      <td>1045538.90</td>\n",
       "      <td>1161709.89</td>\n",
       "    </tr>\n",
       "    <tr>\n",
       "      <th>75 - 84</th>\n",
       "      <td>15547953</td>\n",
       "      <td>0.07</td>\n",
       "      <td>115054.85</td>\n",
       "      <td>230109.70</td>\n",
       "      <td>345164.56</td>\n",
       "      <td>460219.41</td>\n",
       "      <td>575274.26</td>\n",
       "      <td>690329.11</td>\n",
       "      <td>805383.97</td>\n",
       "      <td>920438.82</td>\n",
       "      <td>1035493.67</td>\n",
       "      <td>1150548.52</td>\n",
       "    </tr>\n",
       "    <tr>\n",
       "      <th>85 +</th>\n",
       "      <td>6303848</td>\n",
       "      <td>0.19</td>\n",
       "      <td>118827.53</td>\n",
       "      <td>237655.07</td>\n",
       "      <td>356482.60</td>\n",
       "      <td>475310.14</td>\n",
       "      <td>594137.67</td>\n",
       "      <td>712965.21</td>\n",
       "      <td>831792.74</td>\n",
       "      <td>950620.28</td>\n",
       "      <td>1069447.81</td>\n",
       "      <td>1188275.35</td>\n",
       "    </tr>\n",
       "    <tr>\n",
       "      <th>sum</th>\n",
       "      <td>327167439</td>\n",
       "      <td>0.33</td>\n",
       "      <td>477955.67</td>\n",
       "      <td>955911.34</td>\n",
       "      <td>1433867.02</td>\n",
       "      <td>1911822.69</td>\n",
       "      <td>2389778.36</td>\n",
       "      <td>2867734.03</td>\n",
       "      <td>3345689.71</td>\n",
       "      <td>3823645.38</td>\n",
       "      <td>4301601.05</td>\n",
       "      <td>4779556.72</td>\n",
       "    </tr>\n",
       "  </tbody>\n",
       "</table>\n",
       "</div>"
      ],
      "text/plain": [
       "         US Population  Death Rate  Percent Infected 0.1  \\\n",
       "0 - 19        82290630        0.00                  0.00   \n",
       "20 - 44      108561089        0.00              16284.16   \n",
       "45 - 54       41605244        0.01              27043.41   \n",
       "55 - 64       42287362        0.02              84574.72   \n",
       "65 - 74       30571313        0.04             116170.99   \n",
       "75 - 84       15547953        0.07             115054.85   \n",
       "85 +           6303848        0.19             118827.53   \n",
       "sum          327167439        0.33             477955.67   \n",
       "\n",
       "         Percent Infected 0.2  Percent Infected 0.3  Percent Infected 0.4  \\\n",
       "0 - 19                   0.00                  0.00                  0.00   \n",
       "20 - 44              32568.33              48852.49              65136.65   \n",
       "45 - 54              54086.82              81130.23             108173.63   \n",
       "55 - 64             169149.45             253724.17             338298.90   \n",
       "65 - 74             232341.98             348512.97             464683.96   \n",
       "75 - 84             230109.70             345164.56             460219.41   \n",
       "85 +                237655.07             356482.60             475310.14   \n",
       "sum                 955911.34            1433867.02            1911822.69   \n",
       "\n",
       "         Percent Infected 0.5  Percent Infected 0.6  Percent Infected 0.7  \\\n",
       "0 - 19                   0.00                  0.00                  0.00   \n",
       "20 - 44              81420.82              97704.98             113989.14   \n",
       "45 - 54             135217.04             162260.45             189303.86   \n",
       "55 - 64             422873.62             507448.34             592023.07   \n",
       "65 - 74             580854.95             697025.94             813196.93   \n",
       "75 - 84             575274.26             690329.11             805383.97   \n",
       "85 +                594137.67             712965.21             831792.74   \n",
       "sum                2389778.36            2867734.03            3345689.71   \n",
       "\n",
       "         Percent Infected 0.8  Percent Infected 0.9  Percent Infected 1.0  \n",
       "0 - 19                   0.00                  0.00                  0.00  \n",
       "20 - 44             130273.31             146557.47             162841.63  \n",
       "45 - 54             216347.27             243390.68             270434.09  \n",
       "55 - 64             676597.79             761172.52             845747.24  \n",
       "65 - 74             929367.92            1045538.90            1161709.89  \n",
       "75 - 84             920438.82            1035493.67            1150548.52  \n",
       "85 +                950620.28            1069447.81            1188275.35  \n",
       "sum                3823645.38            4301601.05            4779556.72  "
      ]
     },
     "execution_count": 9,
     "metadata": {},
     "output_type": "execute_result"
    }
   ],
   "source": [
    "summary_df"
   ]
  },
  {
   "cell_type": "code",
   "execution_count": 10,
   "metadata": {},
   "outputs": [
    {
     "name": "stdout",
     "output_type": "stream",
     "text": [
      "US Population: 327167439\n",
      "Deaths if 10% of population is infected: 477955\n",
      "Deaths if 50% of population is infected: 2389778\n",
      "Deaths if entire US population is infected: 4779556\n"
     ]
    }
   ],
   "source": [
    "us_population = summary_df[\"US Population\"][\"sum\"]\n",
    "print(f\"US Population: {us_population}\")\n",
    "print(\"Deaths if 10% of population is infected: {}\".format(int(summary_df[\"Percent Infected 0.1\"][\"sum\"])))\n",
    "print(\"Deaths if 50% of population is infected: {}\".format(int(summary_df[\"Percent Infected 0.5\"][\"sum\"])))\n",
    "print(\"Deaths if entire US population is infected: {}\".format(int(summary_df[\"Percent Infected 1.0\"][\"sum\"])))"
   ]
  },
  {
   "cell_type": "markdown",
   "metadata": {},
   "source": [
    "Currently, the government is hoping that less than 10% of the U.S. population gets infected, so that can we keep the deaths below **478 thousand**. If everyone in the US was infected by SARS-CoV-2, about **4.78 million** people would die.\n",
    "\n",
    "Okay, so let's do the math for what Knut Wittkowski is describing. Let's say his plan works perfectly, so everyone that is high risk never gets infected and never dies. He wants no social distancing, so that means everyone else does get infected."
   ]
  },
  {
   "cell_type": "code",
   "execution_count": 11,
   "metadata": {
    "scrolled": true
   },
   "outputs": [
    {
     "name": "stdout",
     "output_type": "stream",
     "text": [
      "----------------------------------------------------------------------\n",
      "High risk age groups: 85 +\n",
      "US population at high risk: 6303848\n",
      "Percent of population at high risk: 0.01926795655236339\n",
      "Deaths if 10% of low risk population is infected: 359128.13755000004\n",
      "Deaths if 50% of low risk population is infected: 1795640.68775\n",
      "Deaths if all of low risk population is infected: 3591281.3755\n",
      "----------------------------------------------------------------------\n",
      "High risk age groups: 75 - 84, 85 +\n",
      "US population at high risk: 21851801\n",
      "Percent of population at high risk: 0.06679087951658906\n",
      "Deaths if 10% of low risk population is infected: 244073.28535000002\n",
      "Deaths if 50% of low risk population is infected: 1220366.42675\n",
      "Deaths if all of low risk population is infected: 2440732.8535\n",
      "----------------------------------------------------------------------\n",
      "High risk age groups: 65 - 74, 75 - 84, 85 +\n",
      "US population at high risk: 52423114\n",
      "Percent of population at high risk: 0.16023328654047386\n",
      "Deaths if 10% of low risk population is infected: 127902.29595\n",
      "Deaths if 50% of low risk population is infected: 639511.4797499999\n",
      "Deaths if all of low risk population is infected: 1279022.9594999999\n",
      "----------------------------------------------------------------------\n",
      "High risk age groups: 55 - 64, 65 - 74, 75 - 84, 85 +\n",
      "US population at high risk: 94710476\n",
      "Percent of population at high risk: 0.28948625293973707\n",
      "Deaths if 10% of low risk population is infected: 43327.571950000005\n",
      "Deaths if 50% of low risk population is infected: 216637.85975\n",
      "Deaths if all of low risk population is infected: 433275.7195\n",
      "----------------------------------------------------------------------\n",
      "High risk age groups: 45 - 54, 55 - 64, 65 - 74, 75 - 84, 85 +\n",
      "US population at high risk: 136315720\n",
      "Percent of population at high risk: 0.41665429914619345\n",
      "Deaths if 10% of low risk population is infected: 16284.163350000003\n",
      "Deaths if 50% of low risk population is infected: 81420.81675000001\n",
      "Deaths if all of low risk population is infected: 162841.63350000003\n",
      "----------------------------------------------------------------------\n",
      "High risk age groups: 20 - 44, 45 - 54, 55 - 64, 65 - 74, 75 - 84, 85 +\n",
      "US population at high risk: 244876809\n",
      "Percent of population at high risk: 0.7484754893349885\n",
      "Deaths if 10% of low risk population is infected: 0.0\n",
      "Deaths if 50% of low risk population is infected: 0.0\n",
      "Deaths if all of low risk population is infected: 0.0\n"
     ]
    }
   ],
   "source": [
    "age_groups = list(df.index)\n",
    "number_of_age_groups = len(age_groups)\n",
    "for i in range(1, number_of_age_groups):\n",
    "    population_at_high_risk = df.iloc[-i:, df.columns.get_loc(\"US Population\")].sum()\n",
    "    percent_of_population_at_high_risk = population_at_high_risk / us_population\n",
    "    deaths_if_x_percent_infected = {}\n",
    "    for x in percent_of_population_infected:\n",
    "        deaths_if_x_percent_infected[\"Percent Infected {}\".format(x)] = df.iloc[:-i, df.columns.get_loc(\"Percent Infected {}\".format(x))].sum()\n",
    "    \n",
    "    print(\"-\" * 70)\n",
    "    print(\"High risk age groups: {}\".format(\", \".join(age_groups[-i:])))\n",
    "    print(\"US population at high risk: {}\".format(population_at_high_risk))\n",
    "    print(\"Percent of population at high risk: {}\".format(percent_of_population_at_high_risk))\n",
    "    print(\"Deaths if 10% of low risk population is infected: {}\".format(deaths_if_x_percent_infected[\"Percent Infected 0.1\"]))\n",
    "    print(\"Deaths if 50% of low risk population is infected: {}\".format(deaths_if_x_percent_infected[\"Percent Infected 0.5\"]))\n",
    "    print(\"Deaths if all of low risk population is infected: {}\".format(deaths_if_x_percent_infected[\"Percent Infected 1.0\"]))"
   ]
  },
  {
   "cell_type": "markdown",
   "metadata": {},
   "source": [
    "Just read through some of the numbers that are output in the cell above to get a feel for the situation. To summarize, if we did what Knut Wittkowski is suggesting and decided that everyone above the age of 65 was high risk, then we'd have to **quarantine 16% of the US population and 1.28 million people die**."
   ]
  }
 ],
 "metadata": {
  "kernelspec": {
   "display_name": "Python [conda env:is]",
   "language": "python",
   "name": "conda-env-is-py"
  },
  "language_info": {
   "codemirror_mode": {
    "name": "ipython",
    "version": 3
   },
   "file_extension": ".py",
   "mimetype": "text/x-python",
   "name": "python",
   "nbconvert_exporter": "python",
   "pygments_lexer": "ipython3",
   "version": "3.7.7"
  }
 },
 "nbformat": 4,
 "nbformat_minor": 4
}
